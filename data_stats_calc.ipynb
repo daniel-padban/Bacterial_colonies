{
 "cells": [
  {
   "cell_type": "markdown",
   "metadata": {},
   "source": [
    "## Calculate mean & std\n",
    "Calculates the mean and std from the dataset, so that the values can be used in a normalization transform"
   ]
  },
  {
   "cell_type": "code",
   "execution_count": 33,
   "metadata": {},
   "outputs": [
    {
     "name": "stdout",
     "output_type": "stream",
     "text": [
      "Image size: 2048\n",
      "mean: tensor([0.0550, 0.0317, 0.0274], device='mps:0')\n",
      " std: tensor([0.0205, 0.0260, 0.0258], device='mps:0')\n",
      "mean_std_done\n"
     ]
    }
   ],
   "source": [
    "# https://saturncloud.io/blog/how-to-normalize-image-dataset-using-pytorch/#:~:text=This%20is%20done%20by%20scaling,train%20and%20improve%20its%20accuracy.\n",
    "import torch\n",
    "from torch.utils.data import DataLoader\n",
    "import torchvision.transforms.v2 as v2\n",
    "from ipynb.fs.full.preprocessing import BacteriaDataset, train_data\n",
    "import json\n",
    "\n",
    "image_size = 2048\n",
    "batch_size = 10\n",
    "\n",
    "device = (\n",
    "    'cuda'\n",
    "    if torch.cuda.is_available()\n",
    "    else 'mps'\n",
    "    if torch.backends.mps.is_available()\n",
    "    else 'cpu'\n",
    ")\n",
    "\n",
    "resize_transform = v2.Compose([\n",
    "    v2.Resize([image_size,image_size]),\n",
    "    v2.Compose([v2.ToImage(), v2.ToDtype(torch.float32, scale=True)]),\n",
    "    ])\n",
    "calc_train_dataset = BacteriaDataset(annotations=train_data['encoded_cats'],images=train_data['image_path'],transform=resize_transform,device=device) \n",
    "calc_train_dataloader = DataLoader(calc_train_dataset,batch_size=batch_size,shuffle=True)\n",
    "\n",
    "def get_mean_std(loader:DataLoader, batch_size:int,device = 'cpu'):\n",
    "    # Compute the mean and standard deviation of all pixels in the dataset\n",
    "    tot_mean = torch.zeros(3,device=device)\n",
    "    tot_std = torch.zeros(3,device=device)\n",
    "    num_imgs = 0\n",
    "    for image, _ in loader:\n",
    "        batch_size, num_channels, height, width = image.shape\n",
    "        num_imgs += batch_size\n",
    "        current_mean = image.mean(axis=(0, 2, 3)) # calculated across channels\n",
    "        current_std = image.std(axis=(0, 2, 3))\n",
    "        tot_mean += current_mean\n",
    "        tot_std += current_std\n",
    "\n",
    "    tot_mean /= num_imgs\n",
    "    tot_std /= num_imgs\n",
    "\n",
    "    return tot_mean, tot_std\n",
    "\n",
    "mean, std = get_mean_std(calc_train_dataloader,batch_size,device)\n",
    "mean_list = mean.numpy(force=True).tolist()\n",
    "std_list = std.numpy(force=True).tolist()\n",
    "\n",
    "image_size_str = str(image_size)\n",
    "current_mean_std_dict = {image_size_str:{\n",
    "        'mean':mean_list,\n",
    "        'std':std_list,\n",
    "    },\n",
    "}\n",
    "#write stats to file, based on image size\n",
    "stats_file_path = 'means_stds.txt'\n",
    "with open(stats_file_path, 'r') as stats_file:\n",
    "        mean_std_dict = json.load(stats_file)\n",
    "mean_std_dict[image_size_str] = current_mean_std_dict[image_size_str]\n",
    "with open(stats_file_path,'w') as stats_file:\n",
    "    json.dump(mean_std_dict,stats_file)\n",
    "\n",
    "print(f'Image size: {image_size}')\n",
    "print(f'mean: {mean}\\n std: {std}')\n",
    "print('mean_std_done')"
   ]
  },
  {
   "cell_type": "markdown",
   "metadata": {},
   "source": [
    "## test other mean & std"
   ]
  },
  {
   "cell_type": "code",
   "execution_count": 37,
   "metadata": {},
   "outputs": [
    {
     "ename": "AttributeError",
     "evalue": "'list' object has no attribute 'sum'",
     "output_type": "error",
     "traceback": [
      "\u001b[0;31m---------------------------------------------------------------------------\u001b[0m",
      "\u001b[0;31mAttributeError\u001b[0m                            Traceback (most recent call last)",
      "Cell \u001b[0;32mIn[37], line 6\u001b[0m\n\u001b[1;32m      4\u001b[0m train_dataloader \u001b[38;5;241m=\u001b[39m DataLoader(train_dataset,batch_size\u001b[38;5;241m=\u001b[39mbatch_size,shuffle\u001b[38;5;241m=\u001b[39m\u001b[38;5;28;01mTrue\u001b[39;00m)\n\u001b[1;32m      5\u001b[0m \u001b[38;5;28;01mfor\u001b[39;00m image \u001b[38;5;129;01min\u001b[39;00m train_dataloader:\n\u001b[0;32m----> 6\u001b[0m     psum \u001b[38;5;241m+\u001b[39m\u001b[38;5;241m=\u001b[39m \u001b[43mimage\u001b[49m\u001b[38;5;241;43m.\u001b[39;49m\u001b[43msum\u001b[49m(axis \u001b[38;5;241m=\u001b[39m [\u001b[38;5;241m0\u001b[39m,\u001b[38;5;241m2\u001b[39m,\u001b[38;5;241m3\u001b[39m])\n\u001b[1;32m      7\u001b[0m     psum_sq \u001b[38;5;241m+\u001b[39m\u001b[38;5;241m=\u001b[39m (image \u001b[38;5;241m*\u001b[39m\u001b[38;5;241m*\u001b[39m \u001b[38;5;241m2\u001b[39m)\u001b[38;5;241m.\u001b[39msum(axis \u001b[38;5;241m=\u001b[39m [\u001b[38;5;241m0\u001b[39m, \u001b[38;5;241m2\u001b[39m, \u001b[38;5;241m3\u001b[39m])\n\u001b[1;32m      9\u001b[0m count \u001b[38;5;241m=\u001b[39m \u001b[38;5;28mlen\u001b[39m()\n",
      "\u001b[0;31mAttributeError\u001b[0m: 'list' object has no attribute 'sum'"
     ]
    }
   ],
   "source": [
    "psum = 0.0\n",
    "psum_sq = 0.0\n",
    "train_dataset = BacteriaDataset(annotations=train_data['encoded_cats'],images=train_data['image_path'],transform=resize_transform,device=device) \n",
    "train_dataloader = DataLoader(train_dataset,batch_size=batch_size,shuffle=True)\n",
    "for image in train_dataloader:\n",
    "    psum += image.sum(axis = [0,2,3])\n",
    "    psum_sq += (image ** 2).sum(axis = [0, 2, 3])\n",
    "\n",
    "count = len()\n"
   ]
  }
 ],
 "metadata": {
  "kernelspec": {
   "display_name": "GA-venv",
   "language": "python",
   "name": "python3"
  },
  "language_info": {
   "codemirror_mode": {
    "name": "ipython",
    "version": 3
   },
   "file_extension": ".py",
   "mimetype": "text/x-python",
   "name": "python",
   "nbconvert_exporter": "python",
   "pygments_lexer": "ipython3",
   "version": "3.12.2"
  }
 },
 "nbformat": 4,
 "nbformat_minor": 2
}
