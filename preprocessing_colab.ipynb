{
 "cells": [
  {
   "cell_type": "markdown",
   "metadata": {},
   "source": [
    "# Get images and labels from 'data' folder"
   ]
  },
  {
   "cell_type": "markdown",
   "metadata": {},
   "source": [
    "## Dataset class:"
   ]
  },
  {
   "cell_type": "code",
   "execution_count": 23,
   "metadata": {},
   "outputs": [],
   "source": [
    "#https://pytorch.org/tutorials/beginner/basics/data_tutorial.html#creating-a-custom-dataset-for-your-files\n",
    "# main imports:\n",
    "import torch\n",
    "from torch.utils.data import Dataset, DataLoader\n",
    "import pandas as pd\n",
    "from PIL import Image\n",
    "import torchvision.transforms.v2 as v2\n",
    "from sklearn.model_selection import train_test_split\n",
    "from sklearn.preprocessing import OrdinalEncoder\n",
    "\n",
    "#set parameters:\n",
    "torch.manual_seed(100)\n",
    "device = (\n",
    "    'cuda'\n",
    "    if torch.cuda.is_available()\n",
    "    else 'mps'\n",
    "    if torch.backends.mps.is_available()\n",
    "    else 'cpu'\n",
    ")\n",
    "\n",
    "#define dataset to be used in loader\n",
    "class BacteriaDataset(Dataset):\n",
    "    def __init__(self, annotations:pd.Series, images:pd.Series,transform = None, device = None ):\n",
    "        self.img_labels = annotations\n",
    "        self.images = images\n",
    "        self.transform = transform\n",
    "        self.to_tensor_transform = v2.Compose([v2.ToImage(), v2.ToDtype(torch.float32, scale=True)])  \n",
    "        self.device = device\n",
    "\n",
    "    def __len__(self):\n",
    "        return len(self.img_labels)\n",
    "    \n",
    "    def __getitem__(self, idx):\n",
    "        label = self.img_labels.iloc[idx]\n",
    "        \n",
    "        img_path = self.images.iloc[idx]\n",
    "        img = Image.open(img_path).convert('RGB')\n",
    "        if self.transform:\n",
    "            img = self.transform(img)\n",
    "        if type(img) is not torch.Tensor:\n",
    "            img = self.to_tensor_transform(img)\n",
    "        img = img.to(self.device)\n",
    "        return img, label"
   ]
  },
  {
   "cell_type": "markdown",
   "metadata": {},
   "source": [
    "## Split data: - <ins> sklearn shuffle = False </ins>"
   ]
  },
  {
   "cell_type": "code",
   "execution_count": 1,
   "metadata": {},
   "outputs": [
    {
     "ename": "NameError",
     "evalue": "name 'pd' is not defined",
     "output_type": "error",
     "traceback": [
      "\u001b[0;31m---------------------------------------------------------------------------\u001b[0m",
      "\u001b[0;31mNameError\u001b[0m                                 Traceback (most recent call last)",
      "Cell \u001b[0;32mIn[1], line 2\u001b[0m\n\u001b[1;32m      1\u001b[0m \u001b[38;5;66;03m#read and prepare data\u001b[39;00m\n\u001b[0;32m----> 2\u001b[0m image_anots \u001b[38;5;241m=\u001b[39m \u001b[43mpd\u001b[49m\u001b[38;5;241m.\u001b[39mread_csv(\u001b[38;5;124m'\u001b[39m\u001b[38;5;124m/content/drive/MyDrive/bacteria_data/bacteria_species.csv\u001b[39m\u001b[38;5;124m'\u001b[39m)\n\u001b[1;32m      3\u001b[0m image_dir \u001b[38;5;241m=\u001b[39m \u001b[38;5;124m'\u001b[39m\u001b[38;5;124m/content/drive/MyDrive/bacteria_data/bac_images\u001b[39m\u001b[38;5;124m'\u001b[39m\n\u001b[1;32m      4\u001b[0m image_anots[\u001b[38;5;124m'\u001b[39m\u001b[38;5;124mimage_path\u001b[39m\u001b[38;5;124m'\u001b[39m] \u001b[38;5;241m=\u001b[39m image_dir \u001b[38;5;241m+\u001b[39m\u001b[38;5;124m\"\u001b[39m\u001b[38;5;124m/\u001b[39m\u001b[38;5;124m\"\u001b[39m\u001b[38;5;241m+\u001b[39m image_anots[\u001b[38;5;124m'\u001b[39m\u001b[38;5;124mimage_name\u001b[39m\u001b[38;5;124m'\u001b[39m]\n",
      "\u001b[0;31mNameError\u001b[0m: name 'pd' is not defined"
     ]
    }
   ],
   "source": [
    "#read and prepare data\n",
    "image_anots = pd.read_csv('/content/drive/MyDrive/bacteria_data/bacteria_species.csv')\n",
    "image_dir = '/content/drive/MyDrive/bacteria_data/bac_images/'\n",
    "image_anots['image_path'] = image_dir +\"/\"+ image_anots['image_name']\n",
    "\n",
    "#convert str categories to integers\n",
    "ordinal_enc = OrdinalEncoder(dtype=int) # assigns each category to an int\n",
    "image_anots['encoded_cats'] = ordinal_enc.fit_transform(pd.DataFrame(image_anots['label_name']))\n",
    "\n",
    "#split data into train and test sets\n",
    "train_data, test_data = train_test_split(image_anots,test_size=0.25,shuffle=False,random_state=100)"
   ]
  },
  {
   "cell_type": "markdown",
   "metadata": {},
   "source": [
    "## Dataloaders & datasets - <ins> torch shuffle = True </ins>"
   ]
  },
  {
   "cell_type": "code",
   "execution_count": 18,
   "metadata": {},
   "outputs": [
    {
     "name": "stdout",
     "output_type": "stream",
     "text": [
      "BacteriaDataset: is \"img\" a tensor?: True\n",
      "img device: mps:0\n",
      "BacteriaDataset: is \"img\" a tensor?: True\n",
      "img device: mps:0\n",
      "BacteriaDataset: is \"img\" a tensor?: True\n",
      "img device: mps:0\n",
      "BacteriaDataset: is \"img\" a tensor?: True\n",
      "img device: mps:0\n",
      "BacteriaDataset: is \"img\" a tensor?: True\n",
      "img device: mps:0\n",
      "BacteriaDataset: is \"img\" a tensor?: True\n",
      "img device: mps:0\n",
      "BacteriaDataset: is \"img\" a tensor?: True\n",
      "img device: mps:0\n",
      "BacteriaDataset: is \"img\" a tensor?: True\n",
      "img device: mps:0\n",
      "BacteriaDataset: is \"img\" a tensor?: True\n",
      "img device: mps:0\n",
      "BacteriaDataset: is \"img\" a tensor?: True\n",
      "img device: mps:0\n",
      "Batch shape: torch.Size([10, 3, 2048, 2048])\n",
      "Labels shape: torch.Size([10])\n",
      "BacteriaDataset: is \"img\" a tensor?: True\n",
      "img device: mps:0\n",
      "BacteriaDataset: is \"img\" a tensor?: True\n",
      "img device: mps:0\n",
      "BacteriaDataset: is \"img\" a tensor?: True\n",
      "img device: mps:0\n",
      "BacteriaDataset: is \"img\" a tensor?: True\n",
      "img device: mps:0\n",
      "BacteriaDataset: is \"img\" a tensor?: True\n",
      "img device: mps:0\n",
      "BacteriaDataset: is \"img\" a tensor?: True\n",
      "img device: mps:0\n",
      "BacteriaDataset: is \"img\" a tensor?: True\n",
      "img device: mps:0\n",
      "BacteriaDataset: is \"img\" a tensor?: True\n",
      "img device: mps:0\n",
      "BacteriaDataset: is \"img\" a tensor?: True\n",
      "img device: mps:0\n",
      "BacteriaDataset: is \"img\" a tensor?: True\n",
      "img device: mps:0\n",
      "torch.Size([10, 3, 2048, 2048])\n",
      "torch.Size([10])\n",
      "BacteriaDataset: is \"img\" a tensor?: True\n",
      "img device: mps:0\n",
      "BacteriaDataset: is \"img\" a tensor?: True\n",
      "img device: mps:0\n",
      "BacteriaDataset: is \"img\" a tensor?: True\n",
      "img device: mps:0\n",
      "BacteriaDataset: is \"img\" a tensor?: True\n",
      "img device: mps:0\n",
      "BacteriaDataset: is \"img\" a tensor?: True\n",
      "img device: mps:0\n",
      "BacteriaDataset: is \"img\" a tensor?: True\n",
      "img device: mps:0\n",
      "BacteriaDataset: is \"img\" a tensor?: True\n",
      "img device: mps:0\n",
      "BacteriaDataset: is \"img\" a tensor?: True\n",
      "img device: mps:0\n",
      "BacteriaDataset: is \"img\" a tensor?: True\n",
      "img device: mps:0\n",
      "BacteriaDataset: is \"img\" a tensor?: True\n",
      "img device: mps:0\n",
      "done\n"
     ]
    }
   ],
   "source": [
    "# means from RGB channels, calculated in data_stats_calc.ipynb\n",
    "pixel_means = [0.0550, 0.0316, 0.0273]\n",
    "pixel_stds = [0.0206, 0.0259, 0.0257]\n",
    "image_size = 2048\n",
    "batch_size = 10\n",
    "\n",
    "transform = v2.Compose([\n",
    "    v2.Resize([image_size,image_size]),\n",
    "    v2.Compose([v2.ToImage(), v2.ToDtype(torch.float32, scale=True)]),\n",
    "    v2.Normalize(pixel_means,pixel_stds),\n",
    "    ])\n",
    "\n",
    "train_dataset = BacteriaDataset(annotations=train_data['encoded_cats'],images=train_data['image_path'],transform=transform,device=device)\n",
    "test_dataset = BacteriaDataset(annotations=test_data['encoded_cats'],images=test_data['image_path'],transform=transform,device=device)\n",
    "\n",
    "train_dataloader = DataLoader(train_dataset,batch_size=batch_size,shuffle=True)\n",
    "test_dataloader = DataLoader(test_dataset,batch_size=batch_size,shuffle=True)\n",
    "\n",
    "for images, labels in train_dataloader:\n",
    "    print(f'Batch shape: {images.shape}')\n",
    "    print(f'Labels shape: {labels.shape}')\n",
    "    break\n",
    "\n",
    "train_features, train_labels = next(iter(train_dataloader))\n",
    "print(train_features.shape)\n",
    "print(train_labels.shape)\n",
    "test_features, train_features = next(iter(test_dataloader))\n",
    "print('done')"
   ]
  },
  {
   "cell_type": "markdown",
   "metadata": {},
   "source": [
    "## Visualize images in `BacteriaDataset`"
   ]
  },
  {
   "cell_type": "code",
   "execution_count": 27,
   "metadata": {},
   "outputs": [
    {
     "data": {
      "image/png": "[encoded data removed]",
      "text/plain": [
       "<Figure size 640x480 with 1 Axes>"
      ]
     },
     "metadata": {},
     "output_type": "display_data"
    },
    {
     "data": {
      "image/png": "[encoded data removed]",
      "text/plain": [
       "<Figure size 1500x500 with 3 Axes>"
      ]
     },
     "metadata": {},
     "output_type": "display_data"
    },
    {
     "name": "stdout",
     "output_type": "stream",
     "text": [
      "done\n"
     ]
    }
   ],
   "source": [
    "import matplotlib.pyplot as plt\n",
    "import numpy as np\n",
    "viz_image_size = 512\n",
    "\n",
    "viz_transform = v2.Compose([\n",
    "    v2.Resize([viz_image_size,viz_image_size]),\n",
    "    v2.Compose([v2.ToImage(), v2.ToDtype(torch.float32, scale=True)]),\n",
    "    ])\n",
    "\n",
    "viz_train_dataset = BacteriaDataset(annotations=train_data['encoded_cats'],images=train_data['image_path'],transform=viz_transform) \n",
    "viz_train_dataloader = DataLoader(viz_train_dataset,batch_size=batch_size,shuffle=False,)\n",
    "\n",
    "\n",
    "def visualize_image_tensor(tensor):\n",
    "    # Convert the tensor to a numpy array\n",
    "    img = tensor.permute(1, 2, 0).numpy()  # Convert to [height, width, channels]\n",
    "    img = np.clip(img, 0, 1)  # Ensure pixel values are in [0, 1] range\n",
    "\n",
    "    # Plot the image\n",
    "    plt.imshow(img)\n",
    "    plt.axis('off')  # Hide axis\n",
    "    plt.show()\n",
    "\n",
    "def visualize_channels(tensor):\n",
    "    channels = tensor.size(1)\n",
    "    channel_names = ['Red','Green','Blue']\n",
    "    fig, axes = plt.subplots(1, channels, figsize=(15, 5))\n",
    "    for i in range(channels):\n",
    "        ax = axes[i]\n",
    "        img = tensor[0, i].numpy()  # First image, i-th channel\n",
    "        ax.imshow(img, cmap='gray')\n",
    "        ax.set_title(f'{channel_names[i]} channel')\n",
    "        ax.axis('off')\n",
    "    plt.show()\n",
    "\n",
    "# Example usage within the DataLoader loop\n",
    "for images, labels in viz_train_dataloader:\n",
    "    # Visualize random image - because of dataloader shuffle\n",
    "    visualize_image_tensor(images[0])\n",
    "    visualize_channels(images)\n",
    "\n",
    "    break\n",
    "\n",
    "print('done')"
   ]
  }
 ],
 "metadata": {
  "kernelspec": {
   "display_name": "GA-venv",
   "language": "python",
   "name": "python3"
  },
  "language_info": {
   "codemirror_mode": {
    "name": "ipython",
    "version": 3
   },
   "file_extension": ".py",
   "mimetype": "text/x-python",
   "name": "python",
   "nbconvert_exporter": "python",
   "pygments_lexer": "ipython3",
   "version": "3.12.2"
  }
 },
 "nbformat": 4,
 "nbformat_minor": 2
}
